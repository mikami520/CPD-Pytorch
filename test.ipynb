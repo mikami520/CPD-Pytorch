{
 "cells": [
  {
   "cell_type": "code",
   "execution_count": 55,
   "metadata": {},
   "outputs": [],
   "source": [
    "import torch as th\n",
    "def low_rank_eigen(G, num_eig):\n",
    "    \"\"\"\n",
    "    Calculate num_eig eigenvectors and eigenvalues of gaussian matrix G.\n",
    "    Enables lower dimensional solving.\n",
    "    \"\"\"\n",
    "    S, Q = th.linalg.eigh(G)\n",
    "    eig_indices = th.flip(th.argsort(th.abs(S)), dims=(0, ))[:num_eig].tolist()\n",
    "    Q = Q[:, eig_indices]  # eigenvectors\n",
    "    S = S[eig_indices]  # eigenvalues.\n",
    "    return Q, S"
   ]
  },
  {
   "cell_type": "code",
   "execution_count": 56,
   "metadata": {},
   "outputs": [],
   "source": [
    "import numpy as np\n",
    "def low_rank_eigen_np(G, num_eig):\n",
    "    \"\"\"\n",
    "    Calculate num_eig eigenvectors and eigenvalues of gaussian matrix G.\n",
    "    Enables lower dimensional solving.\n",
    "    \"\"\"\n",
    "    S, Q = np.linalg.eigh(G)\n",
    "    eig_indices = list(np.argsort(np.abs(S))[::-1][:num_eig])\n",
    "    Q = Q[:, eig_indices]  # eigenvectors\n",
    "    S = S[eig_indices]  # eigenvalues.\n",
    "    return Q, S"
   ]
  },
  {
   "cell_type": "code",
   "execution_count": 68,
   "metadata": {},
   "outputs": [
    {
     "name": "stdout",
     "output_type": "stream",
     "text": [
      "True\n"
     ]
    }
   ],
   "source": [
    "a = th.rand(3,3,dtype=th.float64).cuda()\n",
    "b = a.detach().cpu().numpy()\n",
    "num_eig = 2\n",
    "Q, S = low_rank_eigen(a, num_eig)\n",
    "Q1, S1 = low_rank_eigen_np(b, num_eig)\n",
    "print(np.isclose(Q.detach().cpu().numpy(), Q1).all())"
   ]
  },
  {
   "cell_type": "code",
   "execution_count": 99,
   "metadata": {},
   "outputs": [
    {
     "name": "stdout",
     "output_type": "stream",
     "text": [
      "[1.34571985 0.01520165 0.67171602]\n",
      "tensor([1.3457+0.j, 0.0152+0.j, 0.6717+0.j], dtype=torch.complex128)\n",
      "True tensor(True)\n"
     ]
    }
   ],
   "source": [
    "c = th.rand(3,3,dtype=th.float64)\n",
    "c1 = c.numpy()\n",
    "d1 = np.all(np.linalg.eigvals(c1) > 0)\n",
    "print(np.linalg.eigvals(c1))\n",
    "print(th.linalg.eigvals(c))\n",
    "d = th.all(th.real(th.linalg.eigvals(c))>0)\n",
    "print(d1, d)"
   ]
  },
  {
   "cell_type": "code",
   "execution_count": 129,
   "metadata": {},
   "outputs": [
    {
     "name": "stdout",
     "output_type": "stream",
     "text": [
      "torch.Size([3])\n"
     ]
    }
   ],
   "source": [
    "PX = th.rand(5, 3)\n",
    "muX = th.div(th.sum(PX, dim=0), 5)\n",
    "X = th.rand(2, 3)\n",
    "mux = th.tile(muX, (2, 1))\n",
    "print(muX.shape)\n"
   ]
  },
  {
   "cell_type": "code",
   "execution_count": 126,
   "metadata": {},
   "outputs": [
    {
     "name": "stdout",
     "output_type": "stream",
     "text": [
      "tensor([0.6027, 0.3797, 0.1964])\n",
      "tensor([[0.6027, 0.3797, 0.1964],\n",
      "        [0.6027, 0.3797, 0.1964],\n",
      "        [0.6027, 0.3797, 0.1964],\n",
      "        [0.6027, 0.3797, 0.1964],\n",
      "        [0.6027, 0.3797, 0.1964]])\n",
      "tensor(0.1926)\n"
     ]
    }
   ],
   "source": [
    "P1 = th.rand(5)\n",
    "Y = th.rand(5, 3)\n",
    "P = th.rand(5, 2)\n",
    "X_hat = th.rand(2, 3)\n",
    "muY = th.div(th.sum(th.mm(P.permute(1, 0), Y), dim=0), 5.)\n",
    "M = Y.shape[0]\n",
    "print(muY)\n",
    "print(th.tile(muY, (M, 1)))\n",
    "Y_hat = Y - th.tile(muY, (M, 1))\n",
    "\n",
    "YPY = th.sum(th.mul(P1, th.sum(th.mul(Y_hat, Y_hat), dim=1)))\n",
    "print(YPY)"
   ]
  },
  {
   "cell_type": "code",
   "execution_count": 127,
   "metadata": {},
   "outputs": [
    {
     "name": "stdout",
     "output_type": "stream",
     "text": [
      "torch.Size([3, 3]) torch.Size([3, 3])\n",
      "tensor([ 1.0000,  1.0000, -1.0000]) -1.0000002\n"
     ]
    }
   ],
   "source": [
    "A = th.mm(X_hat.permute(1, 0), P.permute(1, 0))\n",
    "A = th.mm(A, Y_hat)\n",
    "U, _, V = th.linalg.svd(A, full_matrices=True)\n",
    "print(U.shape, V.shape)\n",
    "C = th.ones((3, ))\n",
    "C[3-1] = th.linalg.det(th.mm(U, V))\n",
    "ee = np.linalg.det(np.dot(U.numpy(), V.numpy()))\n",
    "print(C, ee)"
   ]
  },
  {
   "cell_type": "code",
   "execution_count": 128,
   "metadata": {},
   "outputs": [
    {
     "data": {
      "text/plain": [
       "tensor([[ 1.0000,  0.0000,  0.0000],\n",
       "        [ 0.0000,  1.0000,  0.0000],\n",
       "        [ 0.0000,  0.0000, -1.0000]])"
      ]
     },
     "execution_count": 128,
     "metadata": {},
     "output_type": "execute_result"
    }
   ],
   "source": [
    "th.diag(C)"
   ]
  },
  {
   "cell_type": "code",
   "execution_count": 133,
   "metadata": {},
   "outputs": [
    {
     "name": "stdout",
     "output_type": "stream",
     "text": [
      "[[0.5566097 ]\n",
      " [0.20196609]\n",
      " [0.61216605]]\n"
     ]
    }
   ],
   "source": [
    "a = th.rand(3,3)\n",
    "b = th.rand(3).reshape(-1, 1)\n",
    "a1 = a.numpy()\n",
    "b1 = b.numpy()\n",
    "print(np.dot(a1,b1))"
   ]
  },
  {
   "cell_type": "code",
   "execution_count": 135,
   "metadata": {},
   "outputs": [
    {
     "data": {
      "text/plain": [
       "tensor([[0.5566],\n",
       "        [0.2020],\n",
       "        [0.6122]])"
      ]
     },
     "execution_count": 135,
     "metadata": {},
     "output_type": "execute_result"
    }
   ],
   "source": [
    "th.mm(a, b)"
   ]
  },
  {
   "cell_type": "code",
   "execution_count": 9,
   "metadata": {},
   "outputs": [
    {
     "name": "stdout",
     "output_type": "stream",
     "text": [
      "(20, 1)\n"
     ]
    },
    {
     "data": {
      "text/plain": [
       "array([20.67719662])"
      ]
     },
     "execution_count": 9,
     "metadata": {},
     "output_type": "execute_result"
    }
   ],
   "source": [
    "import numpy as np\n",
    "import torch as th\n",
    "\n",
    "X_hat = np.random.randn(20, 3)\n",
    "th_X_hat = th.from_numpy(X_hat)\n",
    "Pt1 = np.random.randn(20, 1)\n",
    "th_Pt1 = th.from_numpy(Pt1)\n",
    "print(Pt1.shape)\n",
    "xPx = np.dot(np.transpose(Pt1), np.sum(np.multiply(X_hat, X_hat), axis=1))\n",
    "xPx\n",
    " "
   ]
  },
  {
   "cell_type": "code",
   "execution_count": 33,
   "metadata": {},
   "outputs": [
    {
     "name": "stdout",
     "output_type": "stream",
     "text": [
      "(3, 3)\n",
      "(3, 3)\n"
     ]
    },
    {
     "data": {
      "text/plain": [
       "6.0"
      ]
     },
     "execution_count": 33,
     "metadata": {},
     "output_type": "execute_result"
    }
   ],
   "source": [
    "B = th.eye(3).numpy()\n",
    "print(B.shape)\n",
    "YPY = 2 * th.ones(3,3).numpy()\n",
    "print(YPY.shape)\n",
    "trBYPYP = np.trace(np.dot(np.dot(B, YPY),B))\n",
    "trBYPYP\n",
    "#th.trace(th.mm(th.mm(B, YPY), B))"
   ]
  },
  {
   "cell_type": "code",
   "execution_count": 52,
   "metadata": {},
   "outputs": [
    {
     "name": "stdout",
     "output_type": "stream",
     "text": [
      "[-27.94191251 -29.43326787 -28.66592013]\n",
      "tensor([[-27.9419, -29.4333, -28.6659]], dtype=torch.float64)\n"
     ]
    }
   ],
   "source": [
    "P = np.random.rand(20, 10)\n",
    "thP = th.from_numpy(P)\n",
    "PX = np.random.rand(20, 3)\n",
    "thpx = th.from_numpy(PX)\n",
    "Y = np.random.rand(20, 3)\n",
    "thy = th.from_numpy(Y)\n",
    "Np=1.5\n",
    "B = np.eye(3)\n",
    "thB = th.from_numpy(B)\n",
    "muX = np.divide(np.sum(PX, axis=0), Np)\n",
    "thmuX = th.div(th.sum(thpx, dim=0), Np)\n",
    "thmuY = th.div(th.sum(th.mm(thP.permute(1, 0), thy), dim=0), Np)\n",
    "muY = np.divide(np.sum(np.dot(np.transpose(P), Y), axis=0), Np)\n",
    "print(np.transpose(muX) - np.dot(np.transpose(B), np.transpose(muY)))\n",
    "print((thmuX.reshape(-1, 1) - th.mm(thB.permute(1, 0), thmuY.reshape(-1, 1))).permute(1,0))"
   ]
  },
  {
   "cell_type": "code",
   "execution_count": 53,
   "metadata": {},
   "outputs": [
    {
     "data": {
      "text/plain": [
       "tensor([[1., 0., 0.],\n",
       "        [0., 1., 0.],\n",
       "        [0., 0., 1.]])"
      ]
     },
     "execution_count": 53,
     "metadata": {},
     "output_type": "execute_result"
    }
   ],
   "source": [
    "th.eye(3)"
   ]
  }
 ],
 "metadata": {
  "kernelspec": {
   "display_name": "venv",
   "language": "python",
   "name": "python3"
  },
  "language_info": {
   "codemirror_mode": {
    "name": "ipython",
    "version": 3
   },
   "file_extension": ".py",
   "mimetype": "text/x-python",
   "name": "python",
   "nbconvert_exporter": "python",
   "pygments_lexer": "ipython3",
   "version": "3.9.6"
  },
  "orig_nbformat": 4,
  "vscode": {
   "interpreter": {
    "hash": "b46011af1801a8f7e4ca789509a7114ad4a8f197e524007f752ce1512e76d423"
   }
  }
 },
 "nbformat": 4,
 "nbformat_minor": 2
}
